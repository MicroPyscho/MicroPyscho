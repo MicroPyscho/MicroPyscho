{
  "nbformat": 4,
  "nbformat_minor": 0,
  "metadata": {
    "colab": {
      "provenance": [],
      "mount_file_id": "1uXqG8y1W0jFfKakHDeG5Gfk8I0UgDaF3",
      "authorship_tag": "ABX9TyNSiMpfVAgw90jE9Gz1jcNB",
      "include_colab_link": true
    },
    "kernelspec": {
      "name": "python3",
      "display_name": "Python 3"
    },
    "language_info": {
      "name": "python"
    }
  },
  "cells": [
    {
      "cell_type": "markdown",
      "metadata": {
        "id": "view-in-github",
        "colab_type": "text"
      },
      "source": [
        "<a href=\"https://colab.research.google.com/github/MicroPyscho/MicroPyscho/blob/main/ANN_CNN.ipynb\" target=\"_parent\"><img src=\"https://colab.research.google.com/assets/colab-badge.svg\" alt=\"Open In Colab\"/></a>"
      ]
    },
    {
      "cell_type": "code",
      "execution_count": null,
      "metadata": {
        "id": "HnM1QgNHuHku"
      },
      "outputs": [],
      "source": [
        "!pip install tensorflow"
      ]
    },
    {
      "cell_type": "code",
      "source": [
        "import tensorflow as tf\n",
        "import matplotlib.pyplot as plt\n",
        "import pandas as pd\n",
        "import numpy as np\n",
        "import torch\n",
        "from google.colab import drive\n",
        "from tensorflow import keras\n",
        "from sklearn.model_selection import train_test_split\n",
        "from sklearn.preprocessing import StandardScaler\n",
        "from sklearn.ensemble import RandomForestRegressor\n",
        "from sklearn.metrics import accuracy_score\n",
        "from sklearn.metrics import classification_report\n",
        "from sklearn.neighbors import KNeighborsClassifier\n",
        "import seaborn as sns\n",
        "from sklearn.ensemble import RandomForestClassifier\n",
        "from sklearn.ensemble import RandomForestRegressor\n",
        "from tensorflow.keras.models import Sequential\n",
        "from tensorflow.keras.layers import Dense, Dropout\n",
        "from tensorflow.keras import regularizers\n",
        "from tensorflow.keras.optimizers import Adam\n",
        "from tensorflow.keras.callbacks import EarlyStopping\n",
        "from sklearn.neighbors import KNeighborsRegressor\n",
        "from sklearn.metrics import mean_squared_error\n",
        "from torch import nn"
      ],
      "metadata": {
        "id": "spgOy-hMvZmW"
      },
      "execution_count": 2,
      "outputs": []
    },
    {
      "cell_type": "markdown",
      "source": [
        "Load dataset and replace all +ve and -ve infinite values with NaN"
      ],
      "metadata": {
        "id": "NqkQ43TOED3S"
      }
    },
    {
      "cell_type": "code",
      "source": [
        "star_df = pd.read_csv(\"/content/drive/MyDrive/Star_df dataset\").replace([np.inf, -np.inf], np.nan)\n",
        "\n",
        "if \"Unnamed: 0\" in star_df.columns:\n",
        "  star_df.drop(columns =[\"Unnamed: 0\"], inplace=True)"
      ],
      "metadata": {
        "id": "Ve49yXz-vfR-"
      },
      "execution_count": null,
      "outputs": []
    },
    {
      "cell_type": "markdown",
      "source": [
        "Exclude all object dtype variable in preparation for ANN and CNN model"
      ],
      "metadata": {
        "id": "xQJkP516EUZz"
      }
    },
    {
      "cell_type": "code",
      "source": [
        "star_df = star_df.select_dtypes(exclude=['object'])"
      ],
      "metadata": {
        "id": "Ft7cEYEFvrsQ"
      },
      "execution_count": 4,
      "outputs": []
    },
    {
      "cell_type": "code",
      "source": [
        "star_df.head()"
      ],
      "metadata": {
        "id": "6keTWlDuwOkW"
      },
      "execution_count": null,
      "outputs": []
    },
    {
      "cell_type": "code",
      "source": [
        "star_df.shape"
      ],
      "metadata": {
        "id": "_So7-ZqY3tBS"
      },
      "execution_count": null,
      "outputs": []
    },
    {
      "cell_type": "markdown",
      "source": [
        "Replace any residual \"-\" in any variable with the mean of the variable column"
      ],
      "metadata": {
        "id": "caCQPLYvDy5F"
      }
    },
    {
      "cell_type": "code",
      "source": [
        "star_df.replace('-', pd.NA, inplace=True)\n",
        "star_df = star_df.apply(pd.to_numeric, errors='coerce')\n",
        "column_means = star_df.mean(skipna=True)\n",
        "star_df.fillna(column_means, inplace=True)\n",
        "\n",
        "print(\"Updated DataFrame:\")\n",
        "print(star_df)\n"
      ],
      "metadata": {
        "id": "Ht58YGdQk_X_"
      },
      "execution_count": null,
      "outputs": []
    },
    {
      "cell_type": "markdown",
      "source": [
        "Split the variables according to their dtypes and note them"
      ],
      "metadata": {
        "id": "RPvqmqovEo_n"
      }
    },
    {
      "cell_type": "code",
      "source": [
        "obj_cols = star_df.select_dtypes(include=['object'])\n",
        "\n",
        "int_cols = star_df.select_dtypes(include=[\"int\", \"int64\", \"float\", \"float64\"])\n",
        "\n",
        "print(\"Object Columns:\")\n",
        "print(obj_cols.columns)\n",
        "print(\"\\nInteger Columns:\")\n",
        "print(int_cols.columns)\n"
      ],
      "metadata": {
        "id": "j0i0u9Lw8Poq"
      },
      "execution_count": null,
      "outputs": []
    },
    {
      "cell_type": "markdown",
      "source": [
        "Do the same for all non-object dtype to note where they fall between \"int\", \"int64\", \"float\", \"float64\""
      ],
      "metadata": {
        "id": "grkxAuscE64J"
      }
    },
    {
      "cell_type": "code",
      "source": [
        "obj_cols = int_cols.select_dtypes(include=['object'])\n",
        "\n",
        "int_cols = int_cols.select_dtypes(include=[\"int\", \"int64\", \"float\", \"float64\"])\n",
        "\n",
        "print(\"Object Columns:\")\n",
        "print(obj_cols.columns)\n",
        "print(\"\\nInteger Columns:\")\n",
        "print(int_cols.columns)"
      ],
      "metadata": {
        "id": "qMTOmip27TA3"
      },
      "execution_count": null,
      "outputs": []
    },
    {
      "cell_type": "code",
      "source": [
        "int_cols"
      ],
      "metadata": {
        "id": "IOUgjMsQEDRB"
      },
      "execution_count": null,
      "outputs": []
    },
    {
      "cell_type": "markdown",
      "source": [
        "#Random Forest Regression to predict AI Score"
      ],
      "metadata": {
        "id": "2r876qwXkEXD"
      }
    },
    {
      "cell_type": "code",
      "source": [
        "# Assuming int_cols is your DataFrame with integer format ai_score\n",
        "A = int_cols.drop(columns=[\"ai_score\"])\n",
        "B = int_cols[\"ai_score\"]\n",
        "\n",
        "# Splitting the data into training and testing sets\n",
        "A_train, A_test, B_train, B_test = train_test_split(A, B, test_size=0.3, random_state=42)\n",
        "\n",
        "# Building the Random Forest regression model\n",
        "rf_regressor = RandomForestRegressor(n_estimators=100, random_state=42)\n",
        "rf_regressor.fit(A_train, B_train)\n",
        "\n",
        "# Feature importances\n",
        "feature_importances = rf_regressor.feature_importances_\n",
        "\n",
        "# Getting the top 50 features\n",
        "top_50_indices = feature_importances.argsort()[-50:][::-1]\n",
        "top_50_features = A.columns[top_50_indices]\n",
        "top_50_importances = feature_importances[top_50_indices]\n",
        "\n",
        "# Plotting the top 50 features\n",
        "plt.figure(figsize=(20, 12))\n",
        "plt.barh(top_50_features, top_50_importances)\n",
        "plt.xlabel('Feature Importance')\n",
        "plt.title('Top 50 Features Using Random Forest Regression')\n",
        "plt.gca().invert_yaxis()  # Invert y-axis to display most important features at the top\n",
        "plt.savefig('/content/to_50_RFReg.pdf')\n",
        "plt.show()\n",
        "\n",
        "# Predicting on the test set\n",
        "B_pred = rf_regressor.predict(A_test)\n",
        "\n",
        "# Creating a DataFrame to display actual and predicted values side by side\n",
        "results_df = pd.DataFrame({'Actual': B_test, 'Predicted': B_pred})\n",
        "print(results_df)"
      ],
      "metadata": {
        "id": "v7OrHxIGkDOa"
      },
      "execution_count": null,
      "outputs": []
    },
    {
      "cell_type": "markdown",
      "source": [
        "#KNN Classifier to predict AI Ranking"
      ],
      "metadata": {
        "id": "OmZL0DK8Cdob"
      }
    },
    {
      "cell_type": "code",
      "source": [
        "# Convert ai_ranking to integer format\n",
        "int_cols['ai_ranking'] = int_cols['ai_ranking'].astype(int)\n",
        "\n",
        "# Split the data into features (A) and target variable (B)\n",
        "A = int_cols.drop(columns=[\"ai_ranking\"])\n",
        "B = int_cols[\"ai_ranking\"]\n",
        "\n",
        "# Split the data into training and testing sets\n",
        "A_train, A_test, B_train, B_test = train_test_split(A, B, test_size=0.3, random_state=42)\n",
        "\n",
        "# Initialize the KNN classifier\n",
        "knn_classifier = KNeighborsClassifier(n_neighbors=5)  # You can adjust the number of neighbors\n",
        "\n",
        "# Train the KNN model\n",
        "knn_classifier.fit(A_train, B_train)\n",
        "\n",
        "# Predictions\n",
        "y_pred_train = knn_classifier.predict(A_train)\n",
        "y_pred_test = knn_classifier.predict(A_test)\n",
        "\n",
        "# Evaluate the model\n",
        "# Accuracy\n",
        "train_accuracy = accuracy_score(B_train, y_pred_train)\n",
        "test_accuracy = accuracy_score(B_test, y_pred_test)\n",
        "\n",
        "# Classification report\n",
        "train_classification_report = classification_report(B_train, y_pred_train)\n",
        "test_classification_report = classification_report(B_test, y_pred_test)\n",
        "\n",
        "print(f'Train Accuracy: {train_accuracy}')\n",
        "print(f'Test Accuracy: {test_accuracy}')\n",
        "\n",
        "print(\"Train Classification Report:\")\n",
        "print(train_classification_report)\n",
        "\n",
        "print(\"Test Classification Report:\")\n",
        "print(test_classification_report)\n"
      ],
      "metadata": {
        "id": "lckobleCA2qn",
        "colab": {
          "base_uri": "https://localhost:8080/"
        },
        "outputId": "0fe3242c-6e35-4398-d510-de02c64e577c"
      },
      "execution_count": 12,
      "outputs": [
        {
          "output_type": "stream",
          "name": "stderr",
          "text": [
            "/usr/local/lib/python3.10/dist-packages/sklearn/metrics/_classification.py:1344: UndefinedMetricWarning: Precision and F-score are ill-defined and being set to 0.0 in labels with no predicted samples. Use `zero_division` parameter to control this behavior.\n",
            "  _warn_prf(average, modifier, msg_start, len(result))\n",
            "/usr/local/lib/python3.10/dist-packages/sklearn/metrics/_classification.py:1344: UndefinedMetricWarning: Precision and F-score are ill-defined and being set to 0.0 in labels with no predicted samples. Use `zero_division` parameter to control this behavior.\n",
            "  _warn_prf(average, modifier, msg_start, len(result))\n",
            "/usr/local/lib/python3.10/dist-packages/sklearn/metrics/_classification.py:1344: UndefinedMetricWarning: Precision and F-score are ill-defined and being set to 0.0 in labels with no predicted samples. Use `zero_division` parameter to control this behavior.\n",
            "  _warn_prf(average, modifier, msg_start, len(result))\n",
            "/usr/local/lib/python3.10/dist-packages/sklearn/metrics/_classification.py:1344: UndefinedMetricWarning: Precision and F-score are ill-defined and being set to 0.0 in labels with no predicted samples. Use `zero_division` parameter to control this behavior.\n",
            "  _warn_prf(average, modifier, msg_start, len(result))\n",
            "/usr/local/lib/python3.10/dist-packages/sklearn/metrics/_classification.py:1344: UndefinedMetricWarning: Recall and F-score are ill-defined and being set to 0.0 in labels with no true samples. Use `zero_division` parameter to control this behavior.\n",
            "  _warn_prf(average, modifier, msg_start, len(result))\n"
          ]
        },
        {
          "output_type": "stream",
          "name": "stdout",
          "text": [
            "Train Accuracy: 0.9971503974871687\n",
            "Test Accuracy: 0.9959200634656794\n",
            "Train Classification Report:\n",
            "              precision    recall  f1-score   support\n",
            "\n",
            "           1       1.00      1.00      1.00      5837\n",
            "           2       1.00      1.00      1.00      1625\n",
            "           3       1.00      1.00      1.00      1276\n",
            "           4       1.00      1.00      1.00      1103\n",
            "           5       1.00      1.00      1.00      1594\n",
            "           6       1.00      1.00      1.00      2747\n",
            "           7       1.00      1.00      1.00      2580\n",
            "           8       1.00      1.00      1.00      1430\n",
            "           9       1.00      1.00      1.00      2807\n",
            "          10       1.00      1.00      1.00      1919\n",
            "          11       1.00      1.00      1.00      1673\n",
            "          12       1.00      1.00      1.00      3327\n",
            "          13       1.00      1.00      1.00      3440\n",
            "          14       0.96      0.99      0.97      2297\n",
            "          15       1.00      1.00      1.00      2896\n",
            "          16       1.00      1.00      1.00       102\n",
            "          17       1.00      1.00      1.00       651\n",
            "          18       0.98      0.95      0.97      1682\n",
            "          19       1.00      1.00      1.00      2548\n",
            "          20       1.00      1.00      1.00       260\n",
            "          21       1.00      1.00      1.00       156\n",
            "          22       1.00      1.00      1.00       446\n",
            "          23       1.00      1.00      1.00       558\n",
            "          24       1.00      1.00      1.00       457\n",
            "          25       1.00      1.00      1.00       537\n",
            "          26       1.00      1.00      1.00        38\n",
            "          27       1.00      1.00      1.00       522\n",
            "          28       1.00      1.00      1.00       847\n",
            "          29       1.00      1.00      1.00       697\n",
            "          30       1.00      0.96      0.98        26\n",
            "          31       0.99      1.00      1.00       842\n",
            "          32       1.00      1.00      1.00       718\n",
            "          33       1.00      1.00      1.00       239\n",
            "          34       1.00      0.99      1.00       172\n",
            "          35       1.00      1.00      1.00       311\n",
            "          36       1.00      1.00      1.00       611\n",
            "          37       1.00      1.00      1.00       252\n",
            "          38       1.00      1.00      1.00       263\n",
            "          39       1.00      0.97      0.99        72\n",
            "          40       1.00      1.00      1.00      1051\n",
            "          41       1.00      0.98      0.99       133\n",
            "          42       1.00      1.00      1.00        89\n",
            "          43       1.00      0.99      1.00       304\n",
            "          44       0.95      1.00      0.97        92\n",
            "          45       0.92      1.00      0.96        54\n",
            "          46       1.00      1.00      1.00        30\n",
            "          47       1.00      1.00      1.00       641\n",
            "          48       1.00      1.00      1.00        44\n",
            "          49       1.00      1.00      1.00       153\n",
            "          50       1.00      1.00      1.00       198\n",
            "          51       1.00      1.00      1.00       729\n",
            "          52       1.00      1.00      1.00       129\n",
            "          53       1.00      1.00      1.00       324\n",
            "          54       1.00      1.00      1.00       117\n",
            "          55       1.00      1.00      1.00       693\n",
            "          56       0.99      1.00      1.00       153\n",
            "          57       0.94      1.00      0.97        29\n",
            "          58       1.00      0.96      0.98        50\n",
            "          59       1.00      1.00      1.00       880\n",
            "          60       1.00      1.00      1.00       881\n",
            "          61       1.00      1.00      1.00       227\n",
            "          62       0.99      1.00      1.00      1246\n",
            "          63       1.00      1.00      1.00       352\n",
            "          64       1.00      1.00      1.00         5\n",
            "          65       1.00      1.00      1.00       147\n",
            "          66       0.97      1.00      0.99        37\n",
            "          67       1.00      1.00      1.00       284\n",
            "          68       1.00      1.00      1.00       491\n",
            "          69       1.00      1.00      1.00        75\n",
            "          70       1.00      1.00      1.00         6\n",
            "          71       0.99      1.00      1.00       176\n",
            "          73       1.00      1.00      1.00        15\n",
            "          74       1.00      0.99      1.00       125\n",
            "          75       1.00      1.00      1.00         6\n",
            "          76       0.99      0.99      0.99       501\n",
            "          77       1.00      1.00      1.00        50\n",
            "          78       0.95      0.90      0.92        20\n",
            "          79       1.00      1.00      1.00        47\n",
            "          80       0.98      1.00      0.99        79\n",
            "          81       1.00      0.95      0.97        19\n",
            "          84       1.00      1.00      1.00        29\n",
            "          87       1.00      1.00      1.00        20\n",
            "          88       1.00      1.00      1.00        93\n",
            "          90       0.98      0.99      0.99       113\n",
            "          91       1.00      1.00      1.00       104\n",
            "          92       1.00      1.00      1.00       156\n",
            "          96       1.00      1.00      1.00        25\n",
            "          97       1.00      1.00      1.00        43\n",
            "          98       1.00      1.00      1.00       101\n",
            "          99       1.00      1.00      1.00        29\n",
            "         100       1.00      1.00      1.00        23\n",
            "         103       1.00      1.00      1.00        10\n",
            "         104       0.92      0.86      0.89        14\n",
            "         105       1.00      0.99      1.00       107\n",
            "         106       0.00      0.00      0.00         2\n",
            "         109       1.00      1.00      1.00         7\n",
            "         110       1.00      1.00      1.00        50\n",
            "         112       0.92      0.86      0.89        14\n",
            "         113       1.00      1.00      1.00        47\n",
            "         114       0.88      1.00      0.94        15\n",
            "         116       1.00      0.95      0.97        20\n",
            "         117       1.00      1.00      1.00       335\n",
            "         121       0.94      0.94      0.94        16\n",
            "         122       0.00      0.00      0.00         1\n",
            "         123       1.00      0.96      0.98        57\n",
            "         124       0.90      1.00      0.95         9\n",
            "         125       0.00      0.00      0.00         2\n",
            "         129       0.90      1.00      0.95         9\n",
            "         131       1.00      1.00      1.00         3\n",
            "         133       0.00      0.00      0.00         2\n",
            "         134       0.00      0.00      0.00         1\n",
            "         136       0.00      0.00      0.00         1\n",
            "         137       0.00      0.00      0.00         1\n",
            "         138       1.00      1.00      1.00        50\n",
            "         141       0.00      0.00      0.00         1\n",
            "         146       0.00      0.00      0.00         2\n",
            "         153       1.00      1.00      1.00         3\n",
            "         156       1.00      1.00      1.00         3\n",
            "         159       0.00      0.00      0.00         1\n",
            "         171       0.00      0.00      0.00         2\n",
            "         180       0.00      0.00      0.00         2\n",
            "\n",
            "    accuracy                           1.00     61763\n",
            "   macro avg       0.89      0.89      0.89     61763\n",
            "weighted avg       1.00      1.00      1.00     61763\n",
            "\n",
            "Test Classification Report:\n",
            "              precision    recall  f1-score   support\n",
            "\n",
            "           1       1.00      1.00      1.00      2553\n",
            "           2       1.00      1.00      1.00       701\n",
            "           3       1.00      1.00      1.00       510\n",
            "           4       1.00      1.00      1.00       458\n",
            "           5       1.00      1.00      1.00       666\n",
            "           6       1.00      1.00      1.00      1166\n",
            "           7       1.00      1.00      1.00      1136\n",
            "           8       1.00      1.00      1.00       589\n",
            "           9       1.00      1.00      1.00      1198\n",
            "          10       1.00      1.00      1.00       774\n",
            "          11       1.00      1.00      1.00       726\n",
            "          12       1.00      1.00      1.00      1433\n",
            "          13       1.00      1.00      1.00      1601\n",
            "          14       0.96      0.98      0.97       938\n",
            "          15       1.00      1.00      1.00      1255\n",
            "          16       1.00      1.00      1.00        39\n",
            "          17       1.00      1.00      1.00       268\n",
            "          18       0.97      0.94      0.95       647\n",
            "          19       1.00      1.00      1.00      1042\n",
            "          20       1.00      1.00      1.00       115\n",
            "          21       1.00      1.00      1.00        78\n",
            "          22       1.00      1.00      1.00       201\n",
            "          23       1.00      1.00      1.00       234\n",
            "          24       1.00      1.00      1.00       216\n",
            "          25       1.00      1.00      1.00       228\n",
            "          26       1.00      1.00      1.00        26\n",
            "          27       1.00      1.00      1.00       206\n",
            "          28       1.00      1.00      1.00       361\n",
            "          29       1.00      1.00      1.00       315\n",
            "          30       1.00      0.80      0.89        10\n",
            "          31       0.99      1.00      0.99       385\n",
            "          32       1.00      1.00      1.00       338\n",
            "          33       1.00      1.00      1.00        99\n",
            "          34       1.00      0.97      0.98        88\n",
            "          35       0.99      1.00      1.00       151\n",
            "          36       1.00      1.00      1.00       275\n",
            "          37       1.00      1.00      1.00       103\n",
            "          38       1.00      1.00      1.00       100\n",
            "          39       1.00      0.97      0.99        37\n",
            "          40       1.00      1.00      1.00       460\n",
            "          41       1.00      0.91      0.95        46\n",
            "          42       1.00      1.00      1.00        27\n",
            "          43       0.99      0.97      0.98       138\n",
            "          44       0.83      1.00      0.91        29\n",
            "          45       1.00      1.00      1.00        23\n",
            "          46       1.00      1.00      1.00        26\n",
            "          47       0.99      1.00      0.99       288\n",
            "          48       1.00      1.00      1.00        18\n",
            "          49       1.00      1.00      1.00        61\n",
            "          50       1.00      1.00      1.00        88\n",
            "          51       1.00      1.00      1.00       342\n",
            "          52       0.98      1.00      0.99        45\n",
            "          53       1.00      1.00      1.00       143\n",
            "          54       1.00      1.00      1.00        39\n",
            "          55       0.99      0.99      0.99       289\n",
            "          56       0.98      1.00      0.99        80\n",
            "          57       0.86      1.00      0.92        12\n",
            "          58       1.00      1.00      1.00         9\n",
            "          59       1.00      0.99      1.00       390\n",
            "          60       1.00      1.00      1.00       355\n",
            "          61       1.00      1.00      1.00       118\n",
            "          62       0.99      1.00      0.99       520\n",
            "          63       1.00      1.00      1.00       134\n",
            "          64       1.00      1.00      1.00         1\n",
            "          65       1.00      1.00      1.00        62\n",
            "          66       0.94      1.00      0.97        17\n",
            "          67       1.00      1.00      1.00       117\n",
            "          68       1.00      1.00      1.00       206\n",
            "          69       1.00      1.00      1.00        26\n",
            "          70       1.00      1.00      1.00         5\n",
            "          71       0.99      1.00      0.99        74\n",
            "          73       1.00      1.00      1.00        10\n",
            "          74       1.00      0.97      0.99        77\n",
            "          75       1.00      1.00      1.00         3\n",
            "          76       0.99      0.97      0.98       201\n",
            "          77       1.00      1.00      1.00        16\n",
            "          78       0.75      0.90      0.82        10\n",
            "          79       1.00      1.00      1.00        11\n",
            "          80       1.00      1.00      1.00        42\n",
            "          81       1.00      0.88      0.93         8\n",
            "          84       1.00      1.00      1.00        20\n",
            "          87       1.00      1.00      1.00         5\n",
            "          88       1.00      1.00      1.00        32\n",
            "          90       0.98      0.98      0.98        56\n",
            "          91       1.00      1.00      1.00        32\n",
            "          92       1.00      1.00      1.00        82\n",
            "          96       1.00      1.00      1.00         7\n",
            "          97       1.00      1.00      1.00         6\n",
            "          98       1.00      1.00      1.00        39\n",
            "          99       1.00      1.00      1.00        20\n",
            "         100       1.00      1.00      1.00        11\n",
            "         101       0.00      0.00      0.00         1\n",
            "         103       1.00      1.00      1.00         5\n",
            "         104       1.00      0.67      0.80        12\n",
            "         105       1.00      1.00      1.00        42\n",
            "         109       1.00      1.00      1.00         6\n",
            "         110       1.00      1.00      1.00        21\n",
            "         112       0.83      1.00      0.91         5\n",
            "         113       1.00      1.00      1.00        19\n",
            "         114       0.80      1.00      0.89         4\n",
            "         116       1.00      1.00      1.00         7\n",
            "         117       1.00      1.00      1.00       149\n",
            "         121       1.00      0.83      0.91         6\n",
            "         123       1.00      1.00      1.00        20\n",
            "         124       0.00      0.00      0.00         0\n",
            "         129       0.50      1.00      0.67         1\n",
            "         130       0.00      0.00      0.00         1\n",
            "         131       1.00      1.00      1.00         1\n",
            "         133       0.00      0.00      0.00         4\n",
            "         137       0.00      0.00      0.00         1\n",
            "         138       1.00      1.00      1.00        17\n",
            "         146       0.00      0.00      0.00         2\n",
            "         153       1.00      1.00      1.00         1\n",
            "         156       1.00      1.00      1.00         1\n",
            "         165       0.00      0.00      0.00         1\n",
            "         171       0.00      0.00      0.00         2\n",
            "\n",
            "    accuracy                           1.00     26471\n",
            "   macro avg       0.92      0.92      0.92     26471\n",
            "weighted avg       1.00      1.00      1.00     26471\n",
            "\n"
          ]
        },
        {
          "output_type": "stream",
          "name": "stderr",
          "text": [
            "/usr/local/lib/python3.10/dist-packages/sklearn/metrics/_classification.py:1344: UndefinedMetricWarning: Precision and F-score are ill-defined and being set to 0.0 in labels with no predicted samples. Use `zero_division` parameter to control this behavior.\n",
            "  _warn_prf(average, modifier, msg_start, len(result))\n",
            "/usr/local/lib/python3.10/dist-packages/sklearn/metrics/_classification.py:1344: UndefinedMetricWarning: Recall and F-score are ill-defined and being set to 0.0 in labels with no true samples. Use `zero_division` parameter to control this behavior.\n",
            "  _warn_prf(average, modifier, msg_start, len(result))\n",
            "/usr/local/lib/python3.10/dist-packages/sklearn/metrics/_classification.py:1344: UndefinedMetricWarning: Precision and F-score are ill-defined and being set to 0.0 in labels with no predicted samples. Use `zero_division` parameter to control this behavior.\n",
            "  _warn_prf(average, modifier, msg_start, len(result))\n",
            "/usr/local/lib/python3.10/dist-packages/sklearn/metrics/_classification.py:1344: UndefinedMetricWarning: Recall and F-score are ill-defined and being set to 0.0 in labels with no true samples. Use `zero_division` parameter to control this behavior.\n",
            "  _warn_prf(average, modifier, msg_start, len(result))\n"
          ]
        }
      ]
    },
    {
      "cell_type": "code",
      "source": [
        "# Create a DataFrame with actual and predicted rankings\n",
        "compard_df = pd.DataFrame({'Actual': B_test, 'Predicted': y_pred_test})\n",
        "\n",
        "# Display the DataFrame\n",
        "print(compard_df)\n",
        "\n",
        "compard_df = pd.DataFrame({'Actual': B_test, 'Predicted': y_pred_test})\n",
        "\n",
        "# Reset index to have numerical index\n",
        "compard_df.reset_index(drop=True, inplace=True)\n",
        "\n",
        "# Plot the actual and predicted rankings\n",
        "plt.figure(figsize=(10, 6))\n",
        "compard_df.plot(kind='bar', figsize=(14, 8))\n",
        "plt.title('Actual vs Predicted Rankings using KNN Classifier')\n",
        "plt.xlabel('Sample Index')\n",
        "plt.ylabel('Ranking')\n",
        "plt.xticks(rotation=45)\n",
        "plt.tight_layout()\n",
        "plt.savefig('/content/actual_predicteed_KNNC.pdf')\n",
        "plt.show()"
      ],
      "metadata": {
        "colab": {
          "base_uri": "https://localhost:8080/",
          "height": 635
        },
        "id": "XvySWMa8CUNK",
        "outputId": "d895ed5b-30c7-4a3a-8674-c645adcce705"
      },
      "execution_count": 13,
      "outputs": [
        {
          "output_type": "stream",
          "name": "stdout",
          "text": [
            "       Actual  Predicted\n",
            "23139      21         21\n",
            "32340      40         40\n",
            "42613      12         12\n",
            "81545       1          1\n",
            "13436      19         19\n",
            "...       ...        ...\n",
            "27469       2          2\n",
            "51995       6          6\n",
            "85808      76         76\n",
            "49963      10         10\n",
            "56244      36         36\n",
            "\n",
            "[26471 rows x 2 columns]\n"
          ]
        },
        {
          "output_type": "display_data",
          "data": {
            "text/plain": [
              "<Figure size 1000x600 with 0 Axes>"
            ]
          },
          "metadata": {}
        },
        {
          "output_type": "display_data",
          "data": {
            "text/plain": [
              "<Figure size 1400x800 with 1 Axes>"
            ],
            "image/png": "[encoded data removed]"
          },
          "metadata": {}
        }
      ]
    },
    {
      "cell_type": "code",
      "source": [
        "compard_df = pd.DataFrame({'Actual': B_test, 'Predicted': y_pred_test})\n",
        "\n",
        "# Reset index to have numerical index\n",
        "compard_df.reset_index(drop=True, inplace=True)\n",
        "\n",
        "# Plot the actual and predicted rankings\n",
        "plt.figure(figsize=(10, 6))\n",
        "compard_df.plot(kind='bar', figsize=(14, 8))\n",
        "plt.title('Actual vs Predicted Rankings')\n",
        "plt.xlabel('Sample Index')\n",
        "plt.ylabel('Ranking')\n",
        "plt.xticks(rotation=45)\n",
        "plt.tight_layout()\n",
        "plt.show()"
      ],
      "metadata": {
        "colab": {
          "base_uri": "https://localhost:8080/",
          "height": 34
        },
        "id": "S6HQfKE4INqq",
        "outputId": "1889977e-fb7d-44f8-827f-aace121ce4b1"
      },
      "execution_count": null,
      "outputs": [
        {
          "output_type": "display_data",
          "data": {
            "text/plain": [
              "<Figure size 1000x600 with 0 Axes>"
            ]
          },
          "metadata": {}
        }
      ]
    },
    {
      "cell_type": "markdown",
      "source": [
        "Rank the top 50 important features for predicting AI Ranking"
      ],
      "metadata": {
        "id": "BVJhOdUWcwhW"
      }
    },
    {
      "cell_type": "code",
      "source": [
        "# Define number of classes\n",
        "num_classes = 5  # Adjust as needed\n",
        "\n",
        "# Discretize the target variable into classes\n",
        "B_train_discretized = np.digitize(B_train, np.arange(0, 101, 100/num_classes))\n",
        "B_test_discretized = np.digitize(B_test, np.arange(0, 101, 100/num_classes))\n",
        "\n",
        "# Initialize the RandomForestClassifier\n",
        "rf_classifier = RandomForestClassifier()\n",
        "\n",
        "# Train the model\n",
        "rf_classifier.fit(A_train, B_train_discretized)\n",
        "\n",
        "# Get feature importances\n",
        "feature_importances = rf_classifier.feature_importances_\n",
        "\n",
        "# Get indices of top 50 features\n",
        "top_50_indices = feature_importances.argsort()[-50:][::-1]\n",
        "\n",
        "# Get top 50 feature names\n",
        "top_50_features = A_train.columns[top_50_indices]\n",
        "\n",
        "# Plot feature importance\n",
        "plt.figure(figsize=(12, 8))\n",
        "sns.barplot(x=feature_importances[top_50_indices], y=top_50_features)\n",
        "plt.title('Top 50 Features Importance for AI Ranking Using KNN')\n",
        "plt.xlabel('Feature Importance Score')\n",
        "plt.ylabel('Feature')\n",
        "plt.savefig('/content/feat_importance_KNNC.pdf')\n",
        "plt.show()\n"
      ],
      "metadata": {
        "id": "mqISwHnbjxOl"
      },
      "execution_count": null,
      "outputs": []
    },
    {
      "cell_type": "markdown",
      "source": [
        "#ANN Model Prediction for AI Score"
      ],
      "metadata": {
        "id": "fP-I4gJnIz-P"
      }
    },
    {
      "cell_type": "markdown",
      "source": [
        "standardize dataset for ANN"
      ],
      "metadata": {
        "id": "VcPffutrFNsA"
      }
    },
    {
      "cell_type": "code",
      "source": [
        "std_cols = (int_cols - int_cols.mean()) / int_cols.std()\n",
        "\n",
        "scaler = StandardScaler()\n",
        "scaled_cols = scaler.fit_transform(std_cols)\n",
        "sstar_df = pd.DataFrame(scaled_cols, columns=std_cols.columns)"
      ],
      "metadata": {
        "id": "7B0sBaipAGcT"
      },
      "execution_count": null,
      "outputs": []
    },
    {
      "cell_type": "code",
      "source": [
        "X =std_cols.drop(columns=[\"ai_score\"])\n",
        "y = std_cols[\"ai_score\"]\n",
        "\n",
        "X_train, X_test, y_train, y_test = train_test_split(X, y, test_size =0.3, random_state=42)"
      ],
      "metadata": {
        "id": "fF0M-8di5iML"
      },
      "execution_count": null,
      "outputs": []
    },
    {
      "cell_type": "code",
      "source": [
        "model = Sequential([\n",
        "    Dense(128, activation='relu', kernel_regularizer=regularizers.l2(0.01), input_shape=(X_train.shape[1],)),\n",
        "    Dropout(0.5),\n",
        "    Dense(64, activation='relu', kernel_regularizer=regularizers.l2(0.01)),\n",
        "    Dropout(0.5),\n",
        "    Dense(32, activation='relu', kernel_regularizer=regularizers.l2(0.01)),\n",
        "    Dense(1)  # No activation function for regression\n",
        "])\n",
        "\n",
        "model.compile(optimizer=Adam(learning_rate=0.001), loss='mean_squared_error')\n",
        "\n",
        "early_stopping = EarlyStopping(monitor='val_loss', patience=20, restore_best_weights=True)\n",
        "\n",
        "# Train model\n",
        "history = model.fit(X_train, y_train, epochs=100, batch_size=36, validation_split=0.2, callbacks=[early_stopping])\n",
        "\n",
        "# Evaluate model\n",
        "loss = model.evaluate(X_test, y_test)\n",
        "print(f'Test Loss: {loss}')"
      ],
      "metadata": {
        "id": "Sew3Q592Ijd6"
      },
      "execution_count": null,
      "outputs": []
    },
    {
      "cell_type": "code",
      "source": [
        "plt.plot(history.history['loss'], label='Training Loss')\n",
        "plt.plot(history.history['val_loss'], label='Validation Loss')\n",
        "plt.xlabel('Epochs')\n",
        "plt.ylabel('Loss')\n",
        "plt.legend()\n",
        "plt.savefig('/content/loss_plot.pdf')\n",
        "plt.show()"
      ],
      "metadata": {
        "id": "sLcsfU3jKTNp"
      },
      "execution_count": null,
      "outputs": []
    },
    {
      "cell_type": "code",
      "source": [
        "y_pred = model.predict(X_test)\n",
        "y_pred"
      ],
      "metadata": {
        "id": "EmCYqchSU3P_"
      },
      "execution_count": null,
      "outputs": []
    },
    {
      "cell_type": "code",
      "source": [
        "vy_test = y_test.values.reshape(-1, 1)\n",
        "inv_ytest = scaler.inverse_transform(np.hstack((np.zeros((len(vy_test), std_cols.shape[1]-1)), vy_test)))\n",
        "\n",
        "vy_pred = y_pred.reshape(-1, 1)\n",
        "inv_ypred = scaler.inverse_transform(np.hstack((np.zeros((len(vy_pred), std_cols.shape[1]-1)), vy_pred)))"
      ],
      "metadata": {
        "id": "gtauOQfmet6v"
      },
      "execution_count": null,
      "outputs": []
    },
    {
      "cell_type": "code",
      "source": [
        "y_testS = inv_ytest * int_cols['ai_score'].std() + int_cols['ai_score'].mean()\n",
        "y_predS = inv_ypred * int_cols['ai_score'].std() + int_cols['ai_score'].mean()\n",
        "\n",
        "comparison_df = pd.DataFrame({'Actual': y_testS.flatten(), 'Predicted': y_predS.flatten()})\n",
        "\n",
        "# Step 3: Print/visualize the comparison\n",
        "print(comparison_df)\n",
        "\n",
        "#compare using a scatter plot\n",
        "plt.scatter(comparison_df['Actual'], comparison_df['Predicted'])\n",
        "plt.xlabel('Actual')\n",
        "plt.ylabel('Predicted')\n",
        "plt.title('Scatterplot of Actual vs Predicted AI Score using ANN ')\n",
        "plt.savefig('/content/scatter_plot_ANN.pdf')\n",
        "plt.show()\n",
        "\n",
        "# compare using line plot\n",
        "plt.figure(figsize=(10, 5))\n",
        "plt.plot(comparison_df['Actual'], label='Actual', color='blue')\n",
        "plt.plot(comparison_df['Predicted'], label='Predicted', color='red')\n",
        "plt.xlabel('Index')\n",
        "plt.ylabel('Value')\n",
        "plt.title('Lineplot of Actual vs Predicted AI Score using ANN')\n",
        "plt.legend()\n",
        "plt.savefig('/content/line_plot_ANN.pdf')\n",
        "plt.show()"
      ],
      "metadata": {
        "id": "9Je-7OVaaKj3"
      },
      "execution_count": null,
      "outputs": []
    },
    {
      "cell_type": "code",
      "source": [
        "from sklearn.metrics import mean_absolute_error, mean_squared_error, r2_score\n",
        "\n",
        "# Calculate MAE\n",
        "mae = mean_absolute_error(y_testS, y_predS)\n",
        "\n",
        "# Calculate MSE\n",
        "mse = mean_squared_error(y_testS, y_predS)\n",
        "\n",
        "# Calculate RMSE\n",
        "rmse = mean_squared_error(y_testS, y_predS, squared=False)\n",
        "\n",
        "# Calculate R-squared\n",
        "r_squared = r2_score(y_testS, y_predS)\n",
        "\n",
        "print(\"Mean Absolute Error:\", mae)\n",
        "print(\"Mean Squared Error:\", mse)\n",
        "print(\"Root Mean Squared Error:\", rmse)\n",
        "print(\"R-squared:\", r_squared)"
      ],
      "metadata": {
        "id": "s7fnsb-Qmabu"
      },
      "execution_count": null,
      "outputs": []
    },
    {
      "cell_type": "code",
      "source": [
        "# Get the weights of the connections between the input layer and the first hidden layer\n",
        "weights = model.layers[0].get_weights()[0]\n",
        "\n",
        "# Calculate feature importance by summing the absolute weights for each feature\n",
        "feature_importance = np.sum(np.abs(weights), axis=1)\n",
        "\n",
        "# Get the indices of the top 50 features\n",
        "top_50_indices = feature_importance.argsort()[-50:][::-1]\n",
        "\n",
        "# Get the names of the top 50 features\n",
        "top_50_features = X_train.columns[top_50_indices]\n",
        "\n",
        "# Plot the feature importance\n",
        "plt.figure(figsize=(15, 10))\n",
        "plt.barh(range(len(top_50_features)), feature_importance[top_50_indices], align='center')\n",
        "plt.yticks(range(len(top_50_features)), top_50_features)\n",
        "plt.xlabel('Feature Importance')\n",
        "plt.ylabel('Feature')\n",
        "plt.title('Top 50 Features Importance for AI Score Using ANN')\n",
        "plt.gca().invert_yaxis()\n",
        "plt.savefig('/content/top_50_ANN.pdf')\n",
        "plt.show()\n"
      ],
      "metadata": {
        "id": "PRI7SHoFmpS2"
      },
      "execution_count": null,
      "outputs": []
    },
    {
      "cell_type": "markdown",
      "source": [
        "#Random Forest Regression Analysis for AI Score"
      ],
      "metadata": {
        "id": "kXssRdYxZYe1"
      }
    },
    {
      "cell_type": "code",
      "source": [
        "rf_model = RandomForestRegressor(n_estimators=100, random_state=42)\n",
        "rf_model.fit(X_train, y_train)\n",
        "\n",
        "# Feature importances\n",
        "feature_importances = rf_model.feature_importances_\n",
        "\n",
        "# Getting the top 50 features\n",
        "top_50_indices = feature_importances.argsort()[-50:][::-1]\n",
        "top_50_features = X.columns[top_50_indices]\n",
        "top_50_importances = feature_importances[top_50_indices]\n",
        "\n",
        "# Plotting the top 50 features\n",
        "plt.figure(figsize=(20, 16))\n",
        "plt.barh(top_50_features, top_50_importances)\n",
        "plt.xlabel('Feature Importance')\n",
        "plt.title('Top 50 Features')\n",
        "plt.gca().invert_yaxis()  # Invert y-axis to display most important features at the top\n",
        "plt.savefig('/content/RF_top_50_ANN.pdf')\n",
        "plt.show()\n",
        "\n",
        "# Predicting on the test set\n",
        "y_pred = rf_model.predict(X_test)\n",
        "\n",
        "# Creating a DataFrame to display actual and predicted values side by side\n",
        "results_df = pd.DataFrame({'Actual': y_test, 'Predicted': y_pred})\n",
        "print(results_df)"
      ],
      "metadata": {
        "id": "98zfzZ4tZXbO"
      },
      "execution_count": null,
      "outputs": []
    },
    {
      "cell_type": "markdown",
      "source": [
        "#KNN Regression Analysis for AI Ranking"
      ],
      "metadata": {
        "id": "T0Wo55Z5vTzw"
      }
    },
    {
      "cell_type": "code",
      "source": [
        "A =std_cols.drop(columns=[\"ai_ranking\"])\n",
        "B = std_cols[\"ai_ranking\"]\n",
        "\n",
        "A_train, A_test, B_train, B_test = train_test_split(A, B, test_size =0.3, random_state=42)"
      ],
      "metadata": {
        "id": "vVlb68gZvZDE"
      },
      "execution_count": null,
      "outputs": []
    },
    {
      "cell_type": "code",
      "source": [
        "print(B.shape)"
      ],
      "metadata": {
        "id": "SmXN_S1090_S"
      },
      "execution_count": null,
      "outputs": []
    },
    {
      "cell_type": "code",
      "source": [
        "# Initialize the KNN regressor\n",
        "knn_regressor = KNeighborsRegressor(n_neighbors=5)  # You can adjust the number of neighbors\n",
        "\n",
        "# Train the KNN model\n",
        "knn_regressor.fit(A_train, B_train)\n",
        "\n",
        "# Predictions\n",
        "y_pred_train = knn_regressor.predict(A_train)\n",
        "y_pred_test = knn_regressor.predict(A_test)\n",
        "\n",
        "# Evaluate the model\n",
        "#RMSE\n",
        "train_rmse = mean_squared_error(B_train, y_pred_train, squared=False)\n",
        "test_rmse = mean_squared_error(B_test, y_pred_test, squared=False)\n",
        "\n",
        "#MAE\n",
        "train_mae = mean_absolute_error(B_train, y_pred_train)\n",
        "test_mae = mean_absolute_error(B_test, y_pred_test)\n",
        "\n",
        "# R-squared\n",
        "train_r2 = r2_score(B_train, y_pred_train)\n",
        "test_r2 = r2_score(B_test, y_pred_test)\n",
        "\n",
        "print(f'Train RMSE: {train_rmse}')\n",
        "print(f'Test RMSE: {test_rmse}')\n",
        "print(f'Train MAE: {train_mae}')\n",
        "print(f'Test MAE: {test_mae}')\n",
        "print(f'Train R-squared: {train_r2}')\n",
        "print(f'Test R-squared: {test_r2}')\n"
      ],
      "metadata": {
        "id": "lZEzEXglvYI8"
      },
      "execution_count": null,
      "outputs": []
    },
    {
      "cell_type": "code",
      "source": [
        "compare_df = pd.DataFrame({'Actual': B_test, 'Predicted': y_pred_test})\n",
        "print(compare_df)"
      ],
      "metadata": {
        "id": "KueJjAHP3sqn"
      },
      "execution_count": null,
      "outputs": []
    },
    {
      "cell_type": "code",
      "source": [
        "import matplotlib.pyplot as plt\n",
        "\n",
        "# Create a DataFrame with actual and predicted rankings\n",
        "comparison_df = pd.DataFrame({'Actual': B_test, 'Predicted': y_pred_test})\n",
        "\n",
        "# Reset index to have numerical index\n",
        "comparison_df.reset_index(drop=True, inplace=True)\n",
        "\n",
        "# Plot the actual and predicted rankings\n",
        "plt.figure(figsize=(14, 8))\n",
        "\n",
        "# Bar chart\n",
        "plt.subplot(2, 1, 1)  # 2 rows, 1 column, plot 1\n",
        "comparison_df.plot(kind='bar', ax=plt.gca())\n",
        "plt.title('Actual vs Predicted Rankings')\n",
        "plt.xlabel('Sample Index')\n",
        "plt.ylabel('Ranking')\n",
        "plt.xticks(rotation=45)\n",
        "\n",
        "# Scatter plot with line\n",
        "plt.subplot(2, 1, 2)  # 2 rows, 1 column, plot 2\n",
        "plt.scatter(B_train, y_pred_train, label='Training data', color='blue', alpha=0.5)\n",
        "plt.scatter(B_test, y_pred_test, label='Test data', color='red', alpha=0.5)\n",
        "plt.plot([B_train.min(), B_train.max()], [B_train.min(), B_train.max()], 'k--', lw=2)  # Diagonal line\n",
        "plt.xlabel('Actual values')\n",
        "plt.ylabel('Predicted values')\n",
        "plt.title('Actual vs Predicted values for AI Ranking Using KNN Regression')\n",
        "plt.savefig('/content/top_50_KNN_Regression.pdf')\n",
        "plt.legend()\n",
        "\n",
        "plt.tight_layout()\n",
        "\n",
        "plt.show()\n"
      ],
      "metadata": {
        "id": "GqemoPqpTbvF"
      },
      "execution_count": null,
      "outputs": []
    },
    {
      "cell_type": "code",
      "source": [
        "plt.figure(figsize=(10, 5))\n",
        "plt.scatter(B_train, y_pred_train, label='Training data', color='blue', alpha=0.5)\n",
        "plt.scatter(B_test, y_pred_test, label='Test data', color='red', alpha=0.5)\n",
        "plt.xlabel('Actual values')\n",
        "plt.ylabel('Predicted values')\n",
        "plt.title('Actual vs Predicted values for KNN Model')\n",
        "plt.legend()\n",
        "plt.show()"
      ],
      "metadata": {
        "id": "WAWGH43-1HZD"
      },
      "execution_count": null,
      "outputs": []
    },
    {
      "cell_type": "code",
      "source": [
        "# Calculate the absolute difference in predictions when a feature value is perturbed\n",
        "train_feature_importances = np.mean(np.abs(knn_regressor.predict(A_train) - knn_regressor.predict(A_train.values + 0.01)), axis=0)\n",
        "test_feature_importances = np.mean(np.abs(knn_regressor.predict(A_test) - knn_regressor.predict(A_test.values + 0.01)), axis=0)\n",
        "\n",
        "# Get the indices of features sorted by importance\n",
        "train_sorted_indices = train_feature_importances.argsort()[::-1]\n",
        "test_sorted_indices = test_feature_importances.argsort()[::-1]\n",
        "\n",
        "# Get the top 50 features and their importance scores\n",
        "top_train_features = A_train.columns[train_sorted_indices][:50]\n",
        "top_train_scores = train_feature_importances[train_sorted_indices][:50]\n",
        "\n",
        "top_test_features = A_test.columns[test_sorted_indices][:50]\n",
        "top_test_scores = test_feature_importances[test_sorted_indices][:50]\n",
        "\n",
        "# Plot the top 50 features and their importance scores\n",
        "plt.figure(figsize=(15, 10))\n",
        "\n",
        "plt.subplot(2, 1, 1)\n",
        "plt.barh(top_train_features, top_train_scores, color='skyblue')\n",
        "plt.xlabel('Importance Score')\n",
        "plt.ylabel('Feature')\n",
        "plt.title('Top 50 Features Importance - Train Data')\n",
        "plt.gca().invert_yaxis()  # Invert y-axis to display in descending order\n",
        "\n",
        "plt.subplot(2, 1, 2)\n",
        "plt.barh(top_test_features, top_test_scores, color='skyblue')\n",
        "plt.xlabel('Importance Score')\n",
        "plt.ylabel('Feature')\n",
        "plt.title('Top 50 Features Importance - Test Data')\n",
        "plt.gca().invert_yaxis()  # Invert y-axis to display in descending order\n",
        "\n",
        "plt.tight_layout()\n",
        "plt.show()\n"
      ],
      "metadata": {
        "id": "FAg2cpKYob20"
      },
      "execution_count": null,
      "outputs": []
    }
  ]
}